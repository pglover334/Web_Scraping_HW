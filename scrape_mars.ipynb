{
 "cells": [
  {
   "cell_type": "code",
   "execution_count": 1,
   "metadata": {},
   "outputs": [],
   "source": [
    "from bs4 import BeautifulSoup\n",
    "import os\n",
    "import requests\n",
    "from splinter import Browser\n",
    "from selenium import webdriver\n",
    "import pandas as pd\n",
    "import time\n",
    "from flask import Flask"
   ]
  },
  {
   "cell_type": "code",
   "execution_count": 2,
   "metadata": {},
   "outputs": [],
   "source": [
    "def init_browser():\n",
    "    executable_path = {'executable_path': 'chromedriver.exe'}\n",
    "    return Browser('chrome', **executable_path, headless=False)\n",
    "\n",
    "\n",
    "def scrape():\n",
    "    \n",
    "    browser = init_browser()\n",
    "    mars_collection = {}\n",
    "    url1 = \"https://mars.nasa.gov/news/?page=0&per_page=40&order=publish_date+desc%2Ccreated_at+desc&search=&category=19%2C165%2C184%2C204&blank_scope=Latest\"\n",
    "    browser.visit(url1)\n",
    "    html = browser.html\n",
    "    response = requests.get(url1)\n",
    "    soup1 = BeautifulSoup(response.text, 'html.parser')\n",
    "    \n",
    "    mars_collection[\"news_title\"] = soup1.find('div', class_='content_title').text.strip()\n",
    "    mars_collection[\"news_p\"] = soup1.find('div', class_='rollover_description_inner').text.strip()\n",
    "    \n",
    "    url2 = \"https://www.jpl.nasa.gov/spaceimages/?search=&category=Mars\"\n",
    "    browser.visit(url2)\n",
    "    browser.click_link_by_id('full_image')\n",
    "    time.sleep(2)\n",
    "    html = browser.html\n",
    "    img_soup = BeautifulSoup(html, \"html.parser\")\n",
    "    img_url = img_soup.find('img', class_='fancybox-image')['src']\n",
    "    mars_collection[\"featured_img_url\"] = \"https://www.jpl.nasa.gov\" + img_url\n",
    "    \n",
    "    url3 = 'https://twitter.com/marswxreport?lang=en'\n",
    "    response = requests.get(url3)\n",
    "    soup2 = BeautifulSoup(response.text, 'html.parser')\n",
    "    mars_collection[\"mars_weather\"] = soup2.find('div', class_='js-tweet-text-container').text.strip()\n",
    "    \n",
    "    url4 = 'https://space-facts.com/mars/'\n",
    "    tables = pd.read_html(url4)\n",
    "    df = tables[0]\n",
    "    df.columns = ['Mars-Earth_Comparison', 'Mars', 'Earth']\n",
    "    html_table1 = df.to_html()\n",
    "    html_table2 = html_table1.replace('\\n', '')\n",
    "    mars_collection[\"fact_table\"] = html_table1\n",
    "    \n",
    "    hemisphere_img_urls = []\n",
    "    \n",
    "    url4 = 'https://astrogeology.usgs.gov/search/map/Mars/Viking/cerberus_enhanced'\n",
    "    response = requests.get(url4)\n",
    "    soup3 = BeautifulSoup(response.text, 'html.parser')\n",
    "    mars_collection['cerebrus_img'] = soup3.find('img', class_='wide-image')['src']\n",
    "    mars_collection['cerebrus_title'] = soup3.find('h2', class_='title').text.strip()\n",
    "\n",
    "    \n",
    "    url5 = 'https://astrogeology.usgs.gov/search/map/Mars/Viking/schiaparelli_enhanced'\n",
    "    response = requests.get(url5)\n",
    "    soup4 = BeautifulSoup(response.text, 'html.parser')\n",
    "    mars_collection['schiaparelli_img'] = soup4.find('img', class_='wide-image')['src']\n",
    "    mars_collection['schiaparelli_title'] = soup4.find('h2', class_='title').text.strip()\n",
    "    \n",
    "    url6 = 'https://astrogeology.usgs.gov/search/map/Mars/Viking/syrtis_major_enhanced'\n",
    "    response = requests.get(url6)    \n",
    "    soup5 = BeautifulSoup(response.text, 'html.parser')\n",
    "    mars_collection['syrtis_major_img'] = soup5.find('img', class_='wide-image')['src']\n",
    "    mars_collection['syrtis_major_title'] = soup5.find('h2', class_='title').text.strip()\n",
    "\n",
    "    \n",
    "    url7 = 'https://astrogeology.usgs.gov/search/map/Mars/Viking/valles_marineris_enhanced'\n",
    "    response = requests.get(url7)\n",
    "    soup6 = BeautifulSoup(response.text, 'html.parser')\n",
    "    mars_collection['valles_marineris_img'] = soup6.find('img', class_='wide-image')['src']\n",
    "    mars_collection['valles_marineris_title'] = soup6.find('h2', class_='title').text.strip()\n",
    "\n",
    "\n",
    "    return mars_collection    "
   ]
  },
  {
   "cell_type": "code",
   "execution_count": 3,
   "metadata": {
    "scrolled": false
   },
   "outputs": [
    {
     "data": {
      "text/plain": [
       "{'news_title': 'NASA Invites Students to Name Mars 2020 Rover',\n",
       " 'news_p': \"Through Nov. 1, K-12 students in the U.S. are encouraged to enter an essay contest to name NASA's next Mars rover.\",\n",
       " 'featured_img_url': 'https://www.jpl.nasa.gov/spaceimages/images/mediumsize/PIA17550_ip.jpg',\n",
       " 'mars_weather': 'InSight sol 285 (2019-09-15) low -100.8ºC (-149.5ºF) high -27.1ºC (-16.8ºF)\\nwinds from the SE at 5.4 m/s (12.2 mph) gusting to 21.3 m/s (47.6 mph)\\npressure at 7.40 hPapic.twitter.com/HtCsngFytC',\n",
       " 'fact_table': '<table border=\"1\" class=\"dataframe\">\\n  <thead>\\n    <tr style=\"text-align: right;\">\\n      <th></th>\\n      <th>Mars-Earth_Comparison</th>\\n      <th>Mars</th>\\n      <th>Earth</th>\\n    </tr>\\n  </thead>\\n  <tbody>\\n    <tr>\\n      <th>0</th>\\n      <td>Diameter:</td>\\n      <td>6,779 km</td>\\n      <td>12,742 km</td>\\n    </tr>\\n    <tr>\\n      <th>1</th>\\n      <td>Mass:</td>\\n      <td>6.39 × 10^23 kg</td>\\n      <td>5.97 × 10^24 kg</td>\\n    </tr>\\n    <tr>\\n      <th>2</th>\\n      <td>Moons:</td>\\n      <td>2</td>\\n      <td>1</td>\\n    </tr>\\n    <tr>\\n      <th>3</th>\\n      <td>Distance from Sun:</td>\\n      <td>227,943,824 km</td>\\n      <td>149,598,262 km</td>\\n    </tr>\\n    <tr>\\n      <th>4</th>\\n      <td>Length of Year:</td>\\n      <td>687 Earth days</td>\\n      <td>365.24 days</td>\\n    </tr>\\n    <tr>\\n      <th>5</th>\\n      <td>Temperature:</td>\\n      <td>-153 to 20 °C</td>\\n      <td>-88 to 58°C</td>\\n    </tr>\\n  </tbody>\\n</table>',\n",
       " 'cerebrus_img': '/cache/images/cfa62af2557222a02478f1fcd781d445_cerberus_enhanced.tif_full.jpg',\n",
       " 'cerebrus_title': 'Cerberus Hemisphere Enhanced',\n",
       " 'schiaparelli_img': '/cache/images/3cdd1cbf5e0813bba925c9030d13b62e_schiaparelli_enhanced.tif_full.jpg',\n",
       " 'schiaparelli_title': 'Schiaparelli Hemisphere Enhanced',\n",
       " 'syrtis_major_img': '/cache/images/ae209b4e408bb6c3e67b6af38168cf28_syrtis_major_enhanced.tif_full.jpg',\n",
       " 'syrtis_major_title': 'Syrtis Major Hemisphere Enhanced',\n",
       " 'valles_marineris_img': '/cache/images/7cf2da4bf549ed01c17f206327be4db7_valles_marineris_enhanced.tif_full.jpg',\n",
       " 'valles_marineris_title': 'Valles Marineris Hemisphere Enhanced'}"
      ]
     },
     "execution_count": 3,
     "metadata": {},
     "output_type": "execute_result"
    }
   ],
   "source": [
    "scrape()"
   ]
  },
  {
   "cell_type": "code",
   "execution_count": 4,
   "metadata": {},
   "outputs": [],
   "source": [
    "import pymongo"
   ]
  },
  {
   "cell_type": "code",
   "execution_count": 5,
   "metadata": {},
   "outputs": [],
   "source": [
    "client = pymongo.MongoClient()"
   ]
  },
  {
   "cell_type": "code",
   "execution_count": 6,
   "metadata": {},
   "outputs": [],
   "source": [
    "mars_scrape = pymongo.MongoClient(\"mongodb://localhost:27017/\")\n",
    "mydb = client[\"mars_db\"]\n"
   ]
  },
  {
   "cell_type": "code",
   "execution_count": 7,
   "metadata": {},
   "outputs": [
    {
     "data": {
      "text/plain": [
       "Database(MongoClient(host=['localhost:27017'], document_class=dict, tz_aware=False, connect=True), 'mars_db')"
      ]
     },
     "execution_count": 7,
     "metadata": {},
     "output_type": "execute_result"
    }
   ],
   "source": [
    "mydb"
   ]
  },
  {
   "cell_type": "code",
   "execution_count": 8,
   "metadata": {},
   "outputs": [],
   "source": [
    "mycol = mydb[\"mars_data\"]\n",
    "yy=scrape()"
   ]
  },
  {
   "cell_type": "code",
   "execution_count": 9,
   "metadata": {},
   "outputs": [
    {
     "name": "stdout",
     "output_type": "stream",
     "text": [
      "{'news_title': 'NASA Invites Students to Name Mars 2020 Rover', 'news_p': \"Through Nov. 1, K-12 students in the U.S. are encouraged to enter an essay contest to name NASA's next Mars rover.\", 'featured_img_url': 'https://www.jpl.nasa.gov/spaceimages/images/mediumsize/PIA17550_ip.jpg', 'mars_weather': 'InSight sol 285 (2019-09-15) low -100.8ºC (-149.5ºF) high -27.1ºC (-16.8ºF)\\nwinds from the SE at 5.4 m/s (12.2 mph) gusting to 21.3 m/s (47.6 mph)\\npressure at 7.40 hPapic.twitter.com/HtCsngFytC', 'fact_table': '<table border=\"1\" class=\"dataframe\">\\n  <thead>\\n    <tr style=\"text-align: right;\">\\n      <th></th>\\n      <th>Mars-Earth_Comparison</th>\\n      <th>Mars</th>\\n      <th>Earth</th>\\n    </tr>\\n  </thead>\\n  <tbody>\\n    <tr>\\n      <th>0</th>\\n      <td>Diameter:</td>\\n      <td>6,779 km</td>\\n      <td>12,742 km</td>\\n    </tr>\\n    <tr>\\n      <th>1</th>\\n      <td>Mass:</td>\\n      <td>6.39 × 10^23 kg</td>\\n      <td>5.97 × 10^24 kg</td>\\n    </tr>\\n    <tr>\\n      <th>2</th>\\n      <td>Moons:</td>\\n      <td>2</td>\\n      <td>1</td>\\n    </tr>\\n    <tr>\\n      <th>3</th>\\n      <td>Distance from Sun:</td>\\n      <td>227,943,824 km</td>\\n      <td>149,598,262 km</td>\\n    </tr>\\n    <tr>\\n      <th>4</th>\\n      <td>Length of Year:</td>\\n      <td>687 Earth days</td>\\n      <td>365.24 days</td>\\n    </tr>\\n    <tr>\\n      <th>5</th>\\n      <td>Temperature:</td>\\n      <td>-153 to 20 °C</td>\\n      <td>-88 to 58°C</td>\\n    </tr>\\n  </tbody>\\n</table>', 'cerebrus_img': '/cache/images/cfa62af2557222a02478f1fcd781d445_cerberus_enhanced.tif_full.jpg', 'cerebrus_title': 'Cerberus Hemisphere Enhanced', 'schiaparelli_img': '/cache/images/3cdd1cbf5e0813bba925c9030d13b62e_schiaparelli_enhanced.tif_full.jpg', 'schiaparelli_title': 'Schiaparelli Hemisphere Enhanced', 'syrtis_major_img': '/cache/images/ae209b4e408bb6c3e67b6af38168cf28_syrtis_major_enhanced.tif_full.jpg', 'syrtis_major_title': 'Syrtis Major Hemisphere Enhanced', 'valles_marineris_img': '/cache/images/7cf2da4bf549ed01c17f206327be4db7_valles_marineris_enhanced.tif_full.jpg', 'valles_marineris_title': 'Valles Marineris Hemisphere Enhanced'}\n"
     ]
    }
   ],
   "source": [
    "print(yy)"
   ]
  },
  {
   "cell_type": "code",
   "execution_count": 10,
   "metadata": {},
   "outputs": [
    {
     "data": {
      "text/plain": [
       "<pymongo.results.InsertOneResult at 0x159170c5c48>"
      ]
     },
     "execution_count": 10,
     "metadata": {},
     "output_type": "execute_result"
    }
   ],
   "source": [
    "x = mycol.insert_one(yy)\n",
    "x"
   ]
  },
  {
   "cell_type": "code",
   "execution_count": 21,
   "metadata": {
    "scrolled": true
   },
   "outputs": [
    {
     "data": {
      "text/plain": [
       "{'_id': ObjectId('5d803c80fb3e68fc39c8cd68'),\n",
       " 'news_title': 'NASA Invites Students to Name Mars 2020 Rover',\n",
       " 'news_p': \"Through Nov. 1, K-12 students in the U.S. are encouraged to enter an essay contest to name NASA's next Mars rover.\",\n",
       " 'featured_img_url': 'https://www.jpl.nasa.gov/spaceimages/images/mediumsize/PIA17550_ip.jpg',\n",
       " 'mars_weather': 'InSight sol 285 (2019-09-15) low -100.8ºC (-149.5ºF) high -27.1ºC (-16.8ºF)\\nwinds from the SE at 5.4 m/s (12.2 mph) gusting to 21.3 m/s (47.6 mph)\\npressure at 7.40 hPapic.twitter.com/HtCsngFytC',\n",
       " 'fact_table': '<table border=\"1\" class=\"dataframe\">\\n  <thead>\\n    <tr style=\"text-align: right;\">\\n      <th></th>\\n      <th>Mars-Earth_Comparison</th>\\n      <th>Mars</th>\\n      <th>Earth</th>\\n    </tr>\\n  </thead>\\n  <tbody>\\n    <tr>\\n      <th>0</th>\\n      <td>Diameter:</td>\\n      <td>6,779 km</td>\\n      <td>12,742 km</td>\\n    </tr>\\n    <tr>\\n      <th>1</th>\\n      <td>Mass:</td>\\n      <td>6.39 × 10^23 kg</td>\\n      <td>5.97 × 10^24 kg</td>\\n    </tr>\\n    <tr>\\n      <th>2</th>\\n      <td>Moons:</td>\\n      <td>2</td>\\n      <td>1</td>\\n    </tr>\\n    <tr>\\n      <th>3</th>\\n      <td>Distance from Sun:</td>\\n      <td>227,943,824 km</td>\\n      <td>149,598,262 km</td>\\n    </tr>\\n    <tr>\\n      <th>4</th>\\n      <td>Length of Year:</td>\\n      <td>687 Earth days</td>\\n      <td>365.24 days</td>\\n    </tr>\\n    <tr>\\n      <th>5</th>\\n      <td>Temperature:</td>\\n      <td>-153 to 20 °C</td>\\n      <td>-88 to 58°C</td>\\n    </tr>\\n  </tbody>\\n</table>',\n",
       " 'cerebrus_img': '/cache/images/cfa62af2557222a02478f1fcd781d445_cerberus_enhanced.tif_full.jpg',\n",
       " 'cerebrus_title': 'Cerberus Hemisphere Enhanced',\n",
       " 'schiaparelli_img': '/cache/images/3cdd1cbf5e0813bba925c9030d13b62e_schiaparelli_enhanced.tif_full.jpg',\n",
       " 'schiaparelli_title': 'Schiaparelli Hemisphere Enhanced',\n",
       " 'syrtis_major_img': '/cache/images/ae209b4e408bb6c3e67b6af38168cf28_syrtis_major_enhanced.tif_full.jpg',\n",
       " 'syrtis_major_title': 'Syrtis Major Hemisphere Enhanced',\n",
       " 'valles_marineris_img': '/cache/images/7cf2da4bf549ed01c17f206327be4db7_valles_marineris_enhanced.tif_full.jpg',\n",
       " 'valles_marineris_title': 'Valles Marineris Hemisphere Enhanced'}"
      ]
     },
     "execution_count": 21,
     "metadata": {},
     "output_type": "execute_result"
    }
   ],
   "source": [
    "xx = mycol.find_one()\n",
    "xx"
   ]
  },
  {
   "cell_type": "code",
   "execution_count": null,
   "metadata": {},
   "outputs": [],
   "source": []
  }
 ],
 "metadata": {
  "kernelspec": {
   "display_name": "Python 3",
   "language": "python",
   "name": "python3"
  },
  "language_info": {
   "codemirror_mode": {
    "name": "ipython",
    "version": 3
   },
   "file_extension": ".py",
   "mimetype": "text/x-python",
   "name": "python",
   "nbconvert_exporter": "python",
   "pygments_lexer": "ipython3",
   "version": "3.7.1"
  }
 },
 "nbformat": 4,
 "nbformat_minor": 2
}
